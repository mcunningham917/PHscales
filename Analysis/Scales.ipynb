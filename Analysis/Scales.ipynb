{
 "cells": [
  {
   "cell_type": "markdown",
   "metadata": {
    "slideshow": {
     "slide_type": "slide"
    }
   },
   "source": [
    "# Global & local vertical scale estimation"
   ]
  },
  {
   "cell_type": "markdown",
   "metadata": {},
   "source": [
    "## Summary"
   ]
  },
  {
   "cell_type": "markdown",
   "metadata": {},
   "source": [
    "Process results of progressive hypsometry (PH) for a collection of regions and their ensemble of \"supercatchments\" to identify the global and local vertical scales of each. \n",
    "\n",
    "Each supercatchments PH data file provides a set of $h_\\mathrm{outlet}$ and $h_\\mathrm{bench}$ values in tab-separated form. This table of PHBs (progressive hypsometry benches) is converted into an vector of $\\Delta{h} = h_\\mathrm{outlet}-h_\\mathrm{bench}$ values.\n",
    "\n",
    "Kernel density estimation is used to compute a smooth frequency distribution (pdf) of $\\Delta{h}$ assuming a Gaussian kernel with a Silverman bandwidth (narrowed by 75%).\n",
    "\n",
    "The peaks of this distribution, which are the modes of the pdf, are located, and the largest two, which likely constitute the global and local vertical scales, are chosen.\n",
    "\n",
    "The kde pdf is then modeled through least-squares curve-fitting using two Gaussians, whose means are initiated at these two modes respectively, and whose means, standard deviations and relative magnitude are permitted to vary.\n",
    "\n",
    "The result is an estimate of the global and local scales and their spread (one standard deviation) for each supercatchment. These results are gathered into one summary table and exported as a text file.\n",
    "\n",
    "Graphs are plotted to record the kde pdf, the Gaussian-modeled pdf, the raw kde pdf modes and the Gaussian modeled modes aka global and local vertical scales."
   ]
  },
  {
   "cell_type": "markdown",
   "metadata": {},
   "source": [
    "### Prerequisites"
   ]
  },
  {
   "cell_type": "markdown",
   "metadata": {},
   "source": [
    "To run this notebook you’ll need to have installed (with `Conda`, `pip` or other package manager) the following packages:\n",
    "  - numpy\n",
    "  - scipy\n",
    "  - matplotlib\n",
    "  - os\n",
    "  - pandas\n",
    "  - sklearn\n",
    "  - json"
   ]
  },
  {
   "cell_type": "markdown",
   "metadata": {},
   "source": [
    "### How to run"
   ]
  },
  {
   "cell_type": "markdown",
   "metadata": {},
   "source": [
    "1. Open a terminal\n",
    "2. Assuming you are running `bash`, type: \n",
    "    - `export PHHOME=\"${HOME}/Science/ProgHypso\"` \n",
    "    - or whatever your path to the parent for `PHscales` is\n",
    "3. `cd` to the directory containing the notebook\n",
    "4. Type `jupyter-notebook`, or to choose a specific version, e.g.  `jupyter-notebook-3.7`\n",
    "5. `Cell` -> `Run all`"
   ]
  },
  {
   "cell_type": "markdown",
   "metadata": {},
   "source": [
    "## Preliminaries"
   ]
  },
  {
   "cell_type": "code",
   "execution_count": 1,
   "metadata": {},
   "outputs": [],
   "source": [
    "import json, os, pandas as pd, numpy as np\n",
    "import matplotlib as mpl\n",
    "import matplotlib.pyplot as plt\n",
    "from sklearn.mixture import GaussianMixture, BayesianGaussianMixture\n",
    "from sklearn.neighbors.kde import KernelDensity\n",
    "from scipy.optimize import curve_fit\n",
    "from scipy.signal import find_peaks\n",
    "from scipy.stats import norm"
   ]
  },
  {
   "cell_type": "code",
   "execution_count": 2,
   "metadata": {},
   "outputs": [],
   "source": [
    "ph_home_path=os.getenv('PHHOME',\n",
    "                os.path.join(os.getenv('HOME'),'Science','ProgHypso'))\n",
    "if ph_home_path is None:\n",
    "    ph_home_path=os.path.join(os.getenv('HOME'),'Science','ProgHypso')\n",
    "ph_scales_path = os.path.join(ph_home_path,'PHscales')"
   ]
  },
  {
   "cell_type": "code",
   "execution_count": 3,
   "metadata": {},
   "outputs": [],
   "source": [
    "# figsize = [6, 8]\n",
    "figsize = [8, 6]\n",
    "mpl.rc( 'figure', autolayout=False,  titlesize='Large',dpi=100)\n",
    "mpl.rc( 'lines', linewidth=2.0, markersize=8)\n",
    "mpl.rc( 'font', size=12, family='Arial')\n",
    "mpl.rc( 'axes', labelsize=12) "
   ]
  },
  {
   "cell_type": "code",
   "execution_count": 4,
   "metadata": {},
   "outputs": [
    {
     "data": {
      "text/plain": [
       "0.75"
      ]
     },
     "execution_count": 4,
     "metadata": {},
     "output_type": "execute_result"
    }
   ],
   "source": [
    "bandwidth_adjustment_factor = 0.75\n",
    "bandwidth_adjustment_factor\n",
    "example_phb_index = 10\n",
    "default_gaussian_stdev = 20"
   ]
  },
  {
   "cell_type": "markdown",
   "metadata": {},
   "source": [
    "## Methods"
   ]
  },
  {
   "cell_type": "code",
   "execution_count": 5,
   "metadata": {},
   "outputs": [],
   "source": [
    "def read_data(dir_name=('.'), file_name=None, \n",
    "              file_ext='', key='ph', sep='\\t',\n",
    "              index_col=0, header=0, skip_rows=None):\n",
    "    \"\"\"\n",
    "    \"\"\"\n",
    "    dir_name = os.path.join(*dir_name)\n",
    "    if not os.path.exists(dir_name):\n",
    "        print('Cannot find data directory')\n",
    "        raise\n",
    "    try:\n",
    "        file_path = os.path.join(dir_name,file_name+file_ext)\n",
    "        df = pd.read_csv(file_path, sep=sep,\n",
    "                           index_col=index_col, header=header, \n",
    "                           skiprows=skip_rows) \n",
    "    except OSError:  \n",
    "        print('Cannot read data file {}'.format(file_path))\n",
    "        raise\n",
    "    except:  \n",
    "        raise\n",
    "    return df"
   ]
  },
  {
   "cell_type": "code",
   "execution_count": 6,
   "metadata": {},
   "outputs": [],
   "source": [
    "def bimodal_model(x,x0,s0,a0,x1,s1):\n",
    "    return ( a0*norm.pdf(x, loc=x0,scale=s0)\n",
    "            +(1-a0)*norm.pdf(x, loc=x1,scale=s1) )"
   ]
  },
  {
   "cell_type": "code",
   "execution_count": 7,
   "metadata": {},
   "outputs": [],
   "source": [
    "def compute_kde_pdf(phbs_dict, phb):\n",
    "    raw_df = phbs_dict[phb]['raw_df']\n",
    "    data = np.array(raw_df['Delta_h']).reshape(-1,1)\n",
    "    Delta_h_array = np.linspace(0,1.2*np.max(data),200)\n",
    "    bw = data.std()*(4/3/data.size)**(1/5)*bandwidth_adjustment_factor\n",
    "    print('{}:  bandwidth = {:.0f}'.format(phb,bw))\n",
    "    kde = KernelDensity(kernel='gaussian', bandwidth=bw)\n",
    "    kde.fit(data)\n",
    "    kde_array = np.exp(kde.score_samples(Delta_h_array.reshape(-1,1)))\n",
    "    kde_df = pd.DataFrame(index=None,\n",
    "                          data={'Delta_h': Delta_h_array,\n",
    "                                'p_Delta_h': kde_array})\n",
    "    phbs_dict[phb].update({'kde_df':kde_df})"
   ]
  },
  {
   "cell_type": "code",
   "execution_count": 8,
   "metadata": {},
   "outputs": [],
   "source": [
    "def find_modes(phbs_dict, phb):\n",
    "    kde_df = phbs_dict[phb]['kde_df']\n",
    "    Delta_h_array = kde_df['Delta_h']\n",
    "    p_Delta_h_array = kde_df['p_Delta_h']\n",
    "    peaks_array = find_peaks(p_Delta_h_array)[0]\n",
    "    peaks_array = np.vstack((peaks_array,\n",
    "                             Delta_h_array[peaks_array],\n",
    "                             p_Delta_h_array[peaks_array])).T\n",
    "    peaks_array = np.flipud(peaks_array[peaks_array[:,2].argsort()])\n",
    "    principal_modes_array = peaks_array[:,1:3]\n",
    "    phbs_dict[phb].update({'modes':principal_modes_array})\n",
    "\n",
    "    print(phb)\n",
    "    print('Principal mode#1: ∆h={:.0f}m  p(∆h)={:.5f}'\n",
    "          .format(principal_modes_array[0,0],principal_modes_array[0,1]))\n",
    "    print('Principal mode#2: ∆h={:.0f}m  p(∆h)={:.5f}'\n",
    "          .format(principal_modes_array[1,0],principal_modes_array[1,1]))\n",
    "    if principal_modes_array.shape[0]>2:\n",
    "        print('Principal mode#3: ∆h={:.0f}m  p(∆h)={:.5f}'\n",
    "          .format(principal_modes_array[2,0],principal_modes_array[2,1]))\n",
    "    print('')\n",
    "#     return principal_modes_array"
   ]
  },
  {
   "cell_type": "code",
   "execution_count": 9,
   "metadata": {},
   "outputs": [],
   "source": [
    "# Defunct - for archiving and possible re-use later\n",
    "def gmm():\n",
    "    nc_list = [2]\n",
    "    gmm_list = [GaussianMixture(n_components=nc,\n",
    "                means_init=peaks_array[0:2,1].reshape(2,1)) \n",
    "                for nc in nc_list]\n",
    "    model_list = [gmm.fit(data) for gmm in gmm_list]\n",
    "    model_aic_list = [model.aic(data) for model in model_list]\n",
    "    best_nc = nc_list[np.argmin(model_aic_list)]\n",
    "    best_model = model_list[np.argmin(model_aic_list)]\n",
    "    best_model_pdf = np.exp(\n",
    "        best_model.score_samples(Delta_h_array.reshape(-1,1)))\n",
    "    best_model_mean= best_model.means_[np.argmax(best_model.precisions_)]\n",
    "    best_model_stdev \\\n",
    "        = np.sqrt(1.0/best_model.precisions_\n",
    "                  [np.argmax(best_model.precisions_)]).ravel()\n",
    "    best_results = np.vstack((np.ravel(best_model.means_),\n",
    "                          np.sqrt(1/best_model.precisions_).ravel())).T\n",
    "    best_results = best_results[best_results[:,1].argsort()]\n",
    "    best_results\n",
    "    best_results[0]\n",
    "\n",
    "\n",
    "    nc = 2\n",
    "    bgmm = BayesianGaussianMixture(n_components=nc,\n",
    "                                   mean_prior=best_model_mean)\n",
    "    bayes_model = bgmm.fit(data)\n",
    "    bayes_model_pdf = np.exp(\n",
    "        bayes_model.score_samples(Delta_h_array.reshape(-1,1)))\n",
    "    bayes_results = np.vstack((np.ravel(bayes_model.means_),\n",
    "                            np.sqrt(1/bayes_model.precisions_).ravel(),\n",
    "                               np.ravel(bayes_model.weights_)\n",
    "                              )).T\n",
    "    bayes_results\n",
    "    bayes_results = bayes_results[bayes_results[:,2].argsort()]\n",
    "\n",
    "\n",
    "\n",
    "\n",
    "    model_ph_df = pd.DataFrame(index=None,\n",
    "                data={'Delta_h': Delta_h_array, \n",
    "                      'GMM_pd': best_model_pdf, \n",
    "                      'BGMM_pd': bayes_model_pdf})\n",
    "    model_ph_dict = {}\n",
    "    model_ph_dict.update({data_set_name: model_ph_df})"
   ]
  },
  {
   "cell_type": "code",
   "execution_count": 10,
   "metadata": {},
   "outputs": [],
   "source": [
    "def plot_pdf():\n",
    "    figure = plt.figure(figsize=figsize)\n",
    "    plt.plot(Delta_h_array,kde_array, \n",
    "             c='DarkGreen', lw=1,\n",
    "             label='kde pdf')\n",
    "    plt.plot(principal_modes_array[0,0],principal_modes_array[0,1],\n",
    "             'o',ms=8,c='DarkGreen',fillstyle='none')\n",
    "    plt.plot(principal_modes_array[1,0],principal_modes_array[1,1],\n",
    "             's',ms=8,c='DarkGreen',fillstyle='none')\n",
    "    plt.plot(Delta_h_array, bimodal_model(Delta_h_array, *popt),\n",
    "             c='DarkBlue',lw=2,\n",
    "             label='dual Gaussian fit')\n",
    "    plt.plot(popt[0],bimodal_model(popt[0], *popt),\n",
    "             'o',ms=6,c='DarkBlue',\n",
    "             label=r'global scale  $H_G \\approx ${}$\\pm${}m'\\\n",
    "                 .format(int(np.round(popt[0])),int(np.round(popt[1])) ))\n",
    "    plt.plot(popt[3],bimodal_model(popt[3], *popt),\n",
    "             's',ms=6,c='DarkBlue',\n",
    "             label=r' local scale   $H_L \\approx ${}$\\pm${}m'\\\n",
    "                 .format(int(np.round(popt[3])),int(np.round(popt[4])) ))\n",
    "    axes = plt.gca()\n",
    "    axes.set_ylim(0,)\n",
    "    axes.set_xlim(0,1.2*np.max(ph_df['Delta_h']));\n",
    "    if popt[0]>np.max(ph_df['Delta_h'])/2:\n",
    "        loc='upper left'\n",
    "    else:\n",
    "        loc='upper right'\n",
    "    plt.legend(fontsize=12,loc=loc)\n",
    "    plt.title(data_set_name);"
   ]
  },
  {
   "cell_type": "markdown",
   "metadata": {},
   "source": [
    "## Gather data"
   ]
  },
  {
   "cell_type": "code",
   "execution_count": 11,
   "metadata": {},
   "outputs": [],
   "source": [
    "phbs_group = ['HalfSqKmAc','PHBs','Cusum02_BenchLength3Steps','Tables']"
   ]
  },
  {
   "cell_type": "code",
   "execution_count": 12,
   "metadata": {},
   "outputs": [
    {
     "data": {
      "text/plain": [
       "{'CostaRica': '/Users/colinstark/Science/ProgHypso/PHscales/CostaRica',\n",
       " 'Finisterres': '/Users/colinstark/Science/ProgHypso/PHscales/Finisterres'}"
      ]
     },
     "execution_count": 12,
     "metadata": {},
     "output_type": "execute_result"
    }
   ],
   "source": [
    "region_dict = {}\n",
    "for dir in os.listdir(ph_scales_path):\n",
    "    path = os.path.realpath(os.path.join(ph_scales_path,dir))\n",
    "    if dir[0]!='.' and dir!='Analysis' and os.path.isdir(path):\n",
    "        region_dict.update({dir : path})\n",
    "region_dict "
   ]
  },
  {
   "cell_type": "code",
   "execution_count": 13,
   "metadata": {},
   "outputs": [
    {
     "data": {
      "text/plain": [
       "{'CostaRica': [('/Users/colinstark/Science/ProgHypso/PHscales/CostaRica/HalfSqKmAc/PHBs/Cusum02_BenchLength3Steps/Tables',\n",
       "   'Supercatchment11_allOutletModePairs.txt'),\n",
       "  ('/Users/colinstark/Science/ProgHypso/PHscales/CostaRica/HalfSqKmAc/PHBs/Cusum02_BenchLength3Steps/Tables',\n",
       "   'Supercatchment16_allOutletModePairs.txt'),\n",
       "  ('/Users/colinstark/Science/ProgHypso/PHscales/CostaRica/HalfSqKmAc/PHBs/Cusum02_BenchLength3Steps/Tables',\n",
       "   'Supercatchment19_allOutletModePairs.txt'),\n",
       "  ('/Users/colinstark/Science/ProgHypso/PHscales/CostaRica/HalfSqKmAc/PHBs/Cusum02_BenchLength3Steps/Tables',\n",
       "   'Supercatchment1_allOutletModePairs.txt'),\n",
       "  ('/Users/colinstark/Science/ProgHypso/PHscales/CostaRica/HalfSqKmAc/PHBs/Cusum02_BenchLength3Steps/Tables',\n",
       "   'Supercatchment24_allOutletModePairs.txt'),\n",
       "  ('/Users/colinstark/Science/ProgHypso/PHscales/CostaRica/HalfSqKmAc/PHBs/Cusum02_BenchLength3Steps/Tables',\n",
       "   'Supercatchment30_allOutletModePairs.txt'),\n",
       "  ('/Users/colinstark/Science/ProgHypso/PHscales/CostaRica/HalfSqKmAc/PHBs/Cusum02_BenchLength3Steps/Tables',\n",
       "   'Supercatchment9_allOutletModePairs.txt')],\n",
       " 'Finisterres': [('/Users/colinstark/Science/ProgHypso/PHscales/Finisterres/HalfSqKmAc/PHBs/Cusum02_BenchLength3Steps/Tables',\n",
       "   'Supercatchment12_allOutletModePairs.txt'),\n",
       "  ('/Users/colinstark/Science/ProgHypso/PHscales/Finisterres/HalfSqKmAc/PHBs/Cusum02_BenchLength3Steps/Tables',\n",
       "   'Supercatchment18_allOutletModePairs.txt'),\n",
       "  ('/Users/colinstark/Science/ProgHypso/PHscales/Finisterres/HalfSqKmAc/PHBs/Cusum02_BenchLength3Steps/Tables',\n",
       "   'Supercatchment33_allOutletModePairs.txt'),\n",
       "  ('/Users/colinstark/Science/ProgHypso/PHscales/Finisterres/HalfSqKmAc/PHBs/Cusum02_BenchLength3Steps/Tables',\n",
       "   'Supercatchment37_allOutletModePairs.txt')]}"
      ]
     },
     "execution_count": 13,
     "metadata": {},
     "output_type": "execute_result"
    }
   ],
   "source": [
    "supercatchment_dict = {}\n",
    "for region in region_dict:\n",
    "    path = os.path.join(region_dict[region],*phbs_group)\n",
    "    supercatchment_list = [(path,supercatchment)\n",
    "                            for supercatchment in os.listdir(path) \n",
    "                            if supercatchment[0]!='.']\n",
    "    supercatchment_dict.update({region : supercatchment_list})\n",
    "supercatchment_dict"
   ]
  },
  {
   "cell_type": "code",
   "execution_count": 14,
   "metadata": {},
   "outputs": [],
   "source": [
    "phbs_dict = {}"
   ]
  },
  {
   "cell_type": "code",
   "execution_count": 15,
   "metadata": {
    "scrolled": false
   },
   "outputs": [
    {
     "data": {
      "text/plain": [
       "['CostaRica_Supercatchment11_allOutletModePairs',\n",
       " 'CostaRica_Supercatchment16_allOutletModePairs',\n",
       " 'CostaRica_Supercatchment19_allOutletModePairs',\n",
       " 'CostaRica_Supercatchment1_allOutletModePairs',\n",
       " 'CostaRica_Supercatchment24_allOutletModePairs',\n",
       " 'CostaRica_Supercatchment30_allOutletModePairs',\n",
       " 'CostaRica_Supercatchment9_allOutletModePairs',\n",
       " 'Finisterres_Supercatchment12_allOutletModePairs',\n",
       " 'Finisterres_Supercatchment18_allOutletModePairs',\n",
       " 'Finisterres_Supercatchment33_allOutletModePairs',\n",
       " 'Finisterres_Supercatchment37_allOutletModePairs']"
      ]
     },
     "execution_count": 15,
     "metadata": {},
     "output_type": "execute_result"
    }
   ],
   "source": [
    "for supercatchment in supercatchment_dict.keys():\n",
    "    for phbs in supercatchment_dict[supercatchment]:\n",
    "        name = supercatchment+'_'+phbs[1].replace('.txt','')\n",
    "        path = (phbs[0],phbs[1])\n",
    "        df = read_data(dir_name=[phbs[0]], \n",
    "                          file_name=phbs[1], index_col=None)\n",
    "        phbs_dict.update({name : {'path':phbs[0],\n",
    "                                  'file':phbs[1],\n",
    "                                  'raw_df':  df} })\n",
    "\n",
    "list(phbs_dict.keys())"
   ]
  },
  {
   "cell_type": "code",
   "execution_count": 16,
   "metadata": {},
   "outputs": [
    {
     "data": {
      "image/png": "[encoded data removed]",
      "text/plain": [
       "<Figure size 600x400 with 1 Axes>"
      ]
     },
     "metadata": {
      "needs_background": "light"
     },
     "output_type": "display_data"
    }
   ],
   "source": [
    "example_phb = list(phbs_dict.keys())[example_phb_index]\n",
    "df = phbs_dict[example_phb]['raw_df']\n",
    "axes = df.plot.scatter(x='Outlets',y='Modes',title=example_phb)\n",
    "axes.set_ylim(0,);"
   ]
  },
  {
   "cell_type": "markdown",
   "metadata": {},
   "source": [
    "## Analysis"
   ]
  },
  {
   "cell_type": "markdown",
   "metadata": {},
   "source": [
    "For every supercatchment result table (now in a `pandas` dataframe), compute $\\Delta{h} = h_\\mathrm{mode}-h_\\mathrm{outlet}$ and put into a new column in that dataframe."
   ]
  },
  {
   "cell_type": "code",
   "execution_count": 17,
   "metadata": {},
   "outputs": [],
   "source": [
    "for phb in phbs_dict:\n",
    "    df = phbs_dict[phb]['raw_df']\n",
    "    df['Delta_h'] = df['Modes']-df['Outlets']"
   ]
  },
  {
   "cell_type": "markdown",
   "metadata": {},
   "source": [
    "Check the pdf $p(\\Delta{h})$ for an example super."
   ]
  },
  {
   "cell_type": "code",
   "execution_count": 18,
   "metadata": {},
   "outputs": [
    {
     "data": {
      "image/png": "[encoded data removed]",
      "text/plain": [
       "<Figure size 600x400 with 1 Axes>"
      ]
     },
     "metadata": {
      "needs_background": "light"
     },
     "output_type": "display_data"
    }
   ],
   "source": [
    "example_phb = list(phbs_dict.keys())[example_phb_index]\n",
    "\n",
    "df = phbs_dict[example_phb]['raw_df']\n",
    "axes = df.plot.density(x='Outlets',y='Delta_h',bw_method='silverman',\n",
    "                          title=example_phb)\n",
    "axes.set_xlim(0,1.1*np.max(df['Delta_h']));\n",
    "axes.set_ylim(0,);"
   ]
  },
  {
   "cell_type": "markdown",
   "metadata": {},
   "source": [
    "Compute a kernel-density estimated pdf for each super, and place in another dataframe for each."
   ]
  },
  {
   "cell_type": "code",
   "execution_count": 19,
   "metadata": {},
   "outputs": [
    {
     "name": "stdout",
     "output_type": "stream",
     "text": [
      "CostaRica_Supercatchment11_allOutletModePairs:  bandwidth = 66\n",
      "CostaRica_Supercatchment16_allOutletModePairs:  bandwidth = 124\n",
      "CostaRica_Supercatchment19_allOutletModePairs:  bandwidth = 101\n",
      "CostaRica_Supercatchment1_allOutletModePairs:  bandwidth = 82\n",
      "CostaRica_Supercatchment24_allOutletModePairs:  bandwidth = 67\n",
      "CostaRica_Supercatchment30_allOutletModePairs:  bandwidth = 93\n",
      "CostaRica_Supercatchment9_allOutletModePairs:  bandwidth = 95\n",
      "Finisterres_Supercatchment12_allOutletModePairs:  bandwidth = 77\n",
      "Finisterres_Supercatchment18_allOutletModePairs:  bandwidth = 103\n",
      "Finisterres_Supercatchment33_allOutletModePairs:  bandwidth = 119\n",
      "Finisterres_Supercatchment37_allOutletModePairs:  bandwidth = 101\n"
     ]
    }
   ],
   "source": [
    "for phb in phbs_dict:\n",
    "    compute_kde_pdf(phbs_dict, phb)"
   ]
  },
  {
   "cell_type": "markdown",
   "metadata": {},
   "source": [
    "For the example super, compare this kde pdf with the one generated and plotted above by `pandas`."
   ]
  },
  {
   "cell_type": "code",
   "execution_count": 20,
   "metadata": {},
   "outputs": [
    {
     "data": {
      "image/png": "[encoded data removed]",
      "text/plain": [
       "<Figure size 600x400 with 1 Axes>"
      ]
     },
     "metadata": {
      "needs_background": "light"
     },
     "output_type": "display_data"
    }
   ],
   "source": [
    "example_phb = list(phbs_dict.keys())[example_phb_index]\n",
    "df = phbs_dict[example_phb]['kde_df']\n",
    "axes = df.plot.line(x='Delta_h',y='p_Delta_h',\n",
    "                          title=example_phb)\n",
    "axes.set_xlim(0,np.max(df['Delta_h']));\n",
    "axes.set_ylim(0,);"
   ]
  },
  {
   "cell_type": "code",
   "execution_count": 21,
   "metadata": {},
   "outputs": [
    {
     "name": "stdout",
     "output_type": "stream",
     "text": [
      "CostaRica_Supercatchment11_allOutletModePairs\n",
      "Principal mode#1: ∆h=660m  p(∆h)=0.00180\n",
      "Principal mode#2: ∆h=231m  p(∆h)=0.00115\n",
      "Principal mode#3: ∆h=1214m  p(∆h)=0.00092\n",
      "\n",
      "CostaRica_Supercatchment16_allOutletModePairs\n",
      "Principal mode#1: ∆h=266m  p(∆h)=0.00097\n",
      "Principal mode#2: ∆h=2091m  p(∆h)=0.00060\n",
      "Principal mode#3: ∆h=1470m  p(∆h)=0.00047\n",
      "\n",
      "CostaRica_Supercatchment19_allOutletModePairs\n",
      "Principal mode#1: ∆h=388m  p(∆h)=0.00137\n",
      "Principal mode#2: ∆h=1652m  p(∆h)=0.00050\n",
      "Principal mode#3: ∆h=1065m  p(∆h)=0.00022\n",
      "\n",
      "CostaRica_Supercatchment1_allOutletModePairs\n",
      "Principal mode#1: ∆h=992m  p(∆h)=0.00134\n",
      "Principal mode#2: ∆h=248m  p(∆h)=0.00099\n",
      "Principal mode#3: ∆h=547m  p(∆h)=0.00079\n",
      "\n",
      "CostaRica_Supercatchment24_allOutletModePairs\n",
      "Principal mode#1: ∆h=358m  p(∆h)=0.00199\n",
      "Principal mode#2: ∆h=1120m  p(∆h)=0.00060\n",
      "Principal mode#3: ∆h=889m  p(∆h)=0.00044\n",
      "\n",
      "CostaRica_Supercatchment30_allOutletModePairs\n",
      "Principal mode#1: ∆h=331m  p(∆h)=0.00142\n",
      "Principal mode#2: ∆h=898m  p(∆h)=0.00056\n",
      "Principal mode#3: ∆h=1422m  p(∆h)=0.00027\n",
      "\n",
      "CostaRica_Supercatchment9_allOutletModePairs\n",
      "Principal mode#1: ∆h=1127m  p(∆h)=0.00128\n",
      "Principal mode#2: ∆h=265m  p(∆h)=0.00092\n",
      "Principal mode#3: ∆h=1988m  p(∆h)=0.00033\n",
      "\n",
      "Finisterres_Supercatchment12_allOutletModePairs\n",
      "Principal mode#1: ∆h=1348m  p(∆h)=0.00167\n",
      "Principal mode#2: ∆h=294m  p(∆h)=0.00083\n",
      "\n",
      "Finisterres_Supercatchment18_allOutletModePairs\n",
      "Principal mode#1: ∆h=1392m  p(∆h)=0.00150\n",
      "Principal mode#2: ∆h=331m  p(∆h)=0.00069\n",
      "Principal mode#3: ∆h=852m  p(∆h)=0.00050\n",
      "\n",
      "Finisterres_Supercatchment33_allOutletModePairs\n",
      "Principal mode#1: ∆h=314m  p(∆h)=0.00071\n",
      "Principal mode#2: ∆h=1071m  p(∆h)=0.00047\n",
      "Principal mode#3: ∆h=2041m  p(∆h)=0.00037\n",
      "\n",
      "Finisterres_Supercatchment37_allOutletModePairs\n",
      "Principal mode#1: ∆h=1503m  p(∆h)=0.00094\n",
      "Principal mode#2: ∆h=324m  p(∆h)=0.00076\n",
      "Principal mode#3: ∆h=1032m  p(∆h)=0.00043\n",
      "\n"
     ]
    }
   ],
   "source": [
    "for phb in phbs_dict:\n",
    "    modes = find_modes(phbs_dict, phb)"
   ]
  },
  {
   "cell_type": "code",
   "execution_count": 24,
   "metadata": {},
   "outputs": [],
   "source": [
    "def fit_bimodal(phbs_dict, phb):\n",
    "    kde_df          = phbs_dict[phb]['kde_df']\n",
    "    modes_array     = phbs_dict[phb]['modes']\n",
    "    Delta_h_array   = kde_df['Delta_h']\n",
    "    p_Delta_h_array = kde_df['p_Delta_h']\n",
    "    initial_values  = [modes_array[0,0], default_gaussian_stdev, 0.5,\n",
    "                       modes_array[1,0], default_gaussian_stdev]\n",
    "    popt,pcov = curve_fit(bimodal_model, \n",
    "                          Delta_h_array, p_Delta_h_array, \n",
    "                          p0=initial_values)\n",
    "#     phbs_dict[phb].update({'modes':principal_modes_array})\n",
    "    \n",
    "    print(phb)\n",
    "    print(modes_array)\n",
    "    print('Global vertical scale: H_G = {:.0f} ± {:.0f}m'\n",
    "          .format(popt[0],popt[1]))\n",
    "    print('Local vertical scale:  H_L = {:.0f} ± {:.0f}m'\n",
    "          .format(popt[3],popt[4]))\n",
    "    print()"
   ]
  },
  {
   "cell_type": "code",
   "execution_count": 25,
   "metadata": {},
   "outputs": [
    {
     "name": "stdout",
     "output_type": "stream",
     "text": [
      "CostaRica_Supercatchment11_allOutletModePairs\n",
      "[[6.60422111e+02 1.80285917e-03]\n",
      " [2.31147739e+02 1.14674647e-03]\n",
      " [1.21352563e+03 9.16187199e-04]]\n",
      "Global vertical scale: H_G = 663 ± 51m\n",
      "Local vertical scale:  H_L = 388 ± 380m\n",
      "\n",
      "CostaRica_Supercatchment16_allOutletModePairs\n",
      "[[2.66182915e+02 9.71187664e-04]\n",
      " [2.09143719e+03 6.01106675e-04]\n",
      " [1.47034372e+03 4.69323445e-04]]\n",
      "Global vertical scale: H_G = 334 ± 434m\n",
      "Local vertical scale:  H_L = 2085 ± 123m\n",
      "\n",
      "CostaRica_Supercatchment19_allOutletModePairs\n",
      "[[3.88040201e+02 1.37370937e-03]\n",
      " [1.65165829e+03 5.02809548e-04]\n",
      " [1.06462312e+03 2.20470229e-04]]\n",
      "Global vertical scale: H_G = 367 ± 243m\n",
      "Local vertical scale:  H_L = 1649 ± 105m\n",
      "\n",
      "CostaRica_Supercatchment1_allOutletModePairs\n",
      "[[9.91501508e+02 1.34220477e-03]\n",
      " [2.47875377e+02 9.92768433e-04]\n",
      " [5.46783920e+02 7.90127344e-04]]\n",
      "Global vertical scale: H_G = 1013 ± 125m\n",
      "Local vertical scale:  H_L = 368 ± 266m\n",
      "\n",
      "CostaRica_Supercatchment24_allOutletModePairs\n",
      "[[3.57792965e+02 1.98603714e-03]\n",
      " [1.11954573e+03 6.03971431e-04]\n",
      " [8.88711558e+02 4.37898696e-04]\n",
      " [1.48888040e+03 2.85193355e-04]\n",
      " [1.88129849e+03 7.44540429e-05]]\n",
      "Global vertical scale: H_G = 322 ± 155m\n",
      "Local vertical scale:  H_L = 1055 ± 277m\n",
      "\n",
      "CostaRica_Supercatchment30_allOutletModePairs\n",
      "[[3.31435176e+02 1.41709577e-03]\n",
      " [8.98082412e+02 5.63166591e-04]\n",
      " [1.42196382e+03 2.71757804e-04]\n",
      " [1.73201608e+03 1.32751526e-04]]\n",
      "Global vertical scale: H_G = 284 ± 159m\n",
      "Local vertical scale:  H_L = 632 ± 422m\n",
      "\n",
      "CostaRica_Supercatchment9_allOutletModePairs\n",
      "[[1.12661307e+03 1.28172929e-03]\n",
      " [2.65085427e+02 9.22943504e-04]\n",
      " [1.98814070e+03 3.30358045e-04]]\n",
      "Global vertical scale: H_G = 1121 ± 113m\n",
      "Local vertical scale:  H_L = 345 ± 321m\n",
      "\n",
      "Finisterres_Supercatchment12_allOutletModePairs\n",
      "[[1.34802814e+03 1.67110105e-03]\n",
      " [2.93801005e+02 8.28838569e-04]]\n",
      "Global vertical scale: H_G = 1325 ± 112m\n",
      "Local vertical scale:  H_L = 409 ± 312m\n",
      "\n",
      "Finisterres_Supercatchment18_allOutletModePairs\n",
      "[[1.39169849e+03 1.50427573e-03]\n",
      " [3.31356784e+02 6.88488840e-04]\n",
      " [8.52060302e+02 4.97631214e-04]]\n",
      "Global vertical scale: H_G = 1395 ± 116m\n",
      "Local vertical scale:  H_L = 529 ± 437m\n",
      "\n",
      "Finisterres_Supercatchment33_allOutletModePairs\n",
      "[[3.14014070e+02 7.14818455e-04]\n",
      " [1.07050251e+03 4.73021802e-04]\n",
      " [2.04109146e+03 3.71800444e-04]\n",
      " [2.34083216e+03 3.34337254e-04]]\n",
      "Global vertical scale: H_G = 598 ± 542m\n",
      "Local vertical scale:  H_L = 2147 ± 242m\n",
      "\n",
      "Finisterres_Supercatchment37_allOutletModePairs\n",
      "[[1.50324422e+03 9.36123383e-04]\n",
      " [3.24229146e+02 7.55568191e-04]\n",
      " [1.03163819e+03 4.25400199e-04]\n",
      " [2.01906332e+03 3.03524437e-04]\n",
      " [2.38750553e+03 1.01614796e-04]]\n",
      "Global vertical scale: H_G = 1505 ± 102m\n",
      "Local vertical scale:  H_L = 546 ± 556m\n",
      "\n"
     ]
    }
   ],
   "source": [
    "for phb in phbs_dict:\n",
    "    fit_bimodal(phbs_dict, phb)"
   ]
  },
  {
   "cell_type": "markdown",
   "metadata": {},
   "source": [
    "## Plotting"
   ]
  },
  {
   "cell_type": "code",
   "execution_count": null,
   "metadata": {},
   "outputs": [],
   "source": []
  },
  {
   "cell_type": "markdown",
   "metadata": {},
   "source": [
    "## Export"
   ]
  },
  {
   "cell_type": "code",
   "execution_count": null,
   "metadata": {},
   "outputs": [],
   "source": []
  }
 ],
 "metadata": {
  "hide_input": false,
  "kernelspec": {
   "display_name": "Python 3",
   "language": "python",
   "name": "python3"
  },
  "language_info": {
   "codemirror_mode": {
    "name": "ipython",
    "version": 3
   },
   "file_extension": ".py",
   "mimetype": "text/x-python",
   "name": "python",
   "nbconvert_exporter": "python",
   "pygments_lexer": "ipython3",
   "version": "3.7.2"
  }
 },
 "nbformat": 4,
 "nbformat_minor": 2
}

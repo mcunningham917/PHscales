{
 "cells": [
  {
   "cell_type": "markdown",
   "metadata": {
    "slideshow": {
     "slide_type": "slide"
    }
   },
   "source": [
    "# Global & local vertical scale estimation"
   ]
  },
  {
   "cell_type": "markdown",
   "metadata": {
    "heading_collapsed": true
   },
   "source": [
    "## Summary"
   ]
  },
  {
   "cell_type": "markdown",
   "metadata": {
    "hidden": true
   },
   "source": [
    "Process results of progressive hypsometry (PH) for a collection of regions and their ensemble of \"supercatchments\" to identify the global and local vertical scales of each. \n",
    "\n",
    "Each supercatchments PH data file provides a set of $h_\\mathrm{outlet}$ and $h_\\mathrm{bench}$ values in tab-separated form. This table of PHBs (progressive hypsometry benches) is converted into an vector of $\\Delta{h} = h_\\mathrm{bench}-h_\\mathrm{outlet}$ values.\n",
    "\n",
    "Kernel density estimation is used to compute a smooth frequency distribution (pdf) of $\\Delta{h}$ assuming a Gaussian kernel with a Silverman bandwidth (narrowed by 75%).\n",
    "\n",
    "The peaks of this distribution, which are the modes of the pdf, are located, and the largest two, which likely constitute the global and local vertical scales, are chosen.\n",
    "\n",
    "The kde pdf is then modeled through least-squares curve-fitting using two Gaussians, whose means are initiated at these two modes respectively, and whose means, standard deviations and relative magnitude are permitted to vary.\n",
    "\n",
    "The result is an estimate of the global and local scales and their spread (one standard deviation) for each supercatchment. These results are gathered into one summary table and exported as a text file.\n",
    "\n",
    "Graphs are plotted to record the kde pdf, the Gaussian-modeled pdf, the raw kde pdf modes and the Gaussian modeled modes aka global and local vertical scales."
   ]
  },
  {
   "cell_type": "markdown",
   "metadata": {
    "hidden": true
   },
   "source": [
    "### Prerequisites"
   ]
  },
  {
   "cell_type": "markdown",
   "metadata": {
    "hidden": true
   },
   "source": [
    "To run this notebook you’ll need to have installed (with `Conda`, `pip` or other package manager) the following packages:\n",
    "  - numpy\n",
    "  - scipy\n",
    "  - matplotlib\n",
    "  - os\n",
    "  - pandas\n",
    "  - sklearn\n",
    "  - json"
   ]
  },
  {
   "cell_type": "markdown",
   "metadata": {
    "hidden": true
   },
   "source": [
    "### How to run"
   ]
  },
  {
   "cell_type": "markdown",
   "metadata": {
    "hidden": true
   },
   "source": [
    "1. Open a terminal\n",
    "2. Assuming you are running `bash`, type: \n",
    "    - `export PHHOME=\"${HOME}/Science/ProgHypso\"` \n",
    "    - or whatever your path to the parent for `PHscales` is\n",
    "3. `cd` to the directory containing the notebook\n",
    "4. Type `jupyter-notebook`, or to choose a specific version, e.g.  `jupyter-notebook-3.7`\n",
    "5. `Cell` -> `Run all`"
   ]
  },
  {
   "cell_type": "markdown",
   "metadata": {
    "heading_collapsed": true
   },
   "source": [
    "## Parameters"
   ]
  },
  {
   "cell_type": "code",
   "execution_count": 1,
   "metadata": {
    "hidden": true
   },
   "outputs": [],
   "source": [
    "phbs_groups = [\n",
    "    ['Ac0p1km2','PHBs','Cusum02_BenchLength3Steps','Tables'],\n",
    "    ['Ac0p5km2','PHBs','Cusum02_BenchLength3Steps','Tables'] \n",
    "]\n",
    "example_phb_index = 0"
   ]
  },
  {
   "cell_type": "code",
   "execution_count": 2,
   "metadata": {
    "hidden": true
   },
   "outputs": [
    {
     "data": {
      "text/plain": [
       "1"
      ]
     },
     "execution_count": 2,
     "metadata": {},
     "output_type": "execute_result"
    }
   ],
   "source": [
    "# bandwidth_adjustment_factor = 0.75\n",
    "bandwidth_adjustment_factor = 1\n",
    "bandwidth_adjustment_factor\n",
    "default_gaussian_stdev = 20"
   ]
  },
  {
   "cell_type": "markdown",
   "metadata": {
    "heading_collapsed": true
   },
   "source": [
    "## Preliminaries"
   ]
  },
  {
   "cell_type": "code",
   "execution_count": 3,
   "metadata": {
    "hidden": true
   },
   "outputs": [],
   "source": [
    "import json, os, pandas as pd, numpy as np\n",
    "import matplotlib as mpl\n",
    "import matplotlib.pyplot as plt\n",
    "from sklearn.mixture import GaussianMixture, BayesianGaussianMixture\n",
    "from sklearn.neighbors.kde import KernelDensity\n",
    "from scipy.optimize import curve_fit\n",
    "from scipy.signal import find_peaks\n",
    "from scipy.stats import norm"
   ]
  },
  {
   "cell_type": "code",
   "execution_count": 4,
   "metadata": {
    "hidden": true
   },
   "outputs": [],
   "source": [
    "ph_home_path=os.getenv('PHHOME',\n",
    "                os.path.join(os.getenv('HOME'),'Science','ProgHypso'))\n",
    "if ph_home_path is None:\n",
    "    ph_home_path=os.path.join(os.getenv('HOME'),'Science','ProgHypso')\n",
    "ph_scales_path = os.path.join(ph_home_path,'PHscales')"
   ]
  },
  {
   "cell_type": "code",
   "execution_count": 5,
   "metadata": {
    "hidden": true
   },
   "outputs": [],
   "source": [
    "# figsize = [6, 8]\n",
    "figsize = [8, 6]\n",
    "mpl.rc( 'figure', autolayout=False,  titlesize='Large',dpi=100)\n",
    "mpl.rc( 'lines', linewidth=2.0, markersize=8)\n",
    "mpl.rc( 'font', size=12, family='Arial')\n",
    "mpl.rc( 'axes', labelsize=12) "
   ]
  },
  {
   "cell_type": "markdown",
   "metadata": {},
   "source": [
    "## Methods"
   ]
  },
  {
   "cell_type": "code",
   "execution_count": 6,
   "metadata": {},
   "outputs": [],
   "source": [
    "def read_data(dir_name=('.'), file_name=None, \n",
    "              file_ext='', key='ph', sep='\\t',\n",
    "              index_col=0, header=0, skip_rows=None):\n",
    "    \"\"\"\n",
    "    \"\"\"\n",
    "    dir_name = os.path.join(*dir_name)\n",
    "    if not os.path.exists(dir_name):\n",
    "        print('Cannot find data directory')\n",
    "        raise\n",
    "    try:\n",
    "        file_path = os.path.join(dir_name,file_name+file_ext)\n",
    "        df = pd.read_csv(file_path, sep=sep,\n",
    "                           index_col=index_col, header=header, \n",
    "                           skiprows=skip_rows) \n",
    "    except OSError:  \n",
    "        print('Cannot read data file {}'.format(file_path))\n",
    "        raise\n",
    "    except:  \n",
    "        raise\n",
    "    return df"
   ]
  },
  {
   "cell_type": "code",
   "execution_count": 7,
   "metadata": {},
   "outputs": [],
   "source": [
    "def bimodal_model(x,x0,s0,a0,x1,s1):\n",
    "    return ( a0*norm.pdf(x, loc=x0,scale=s0)\n",
    "            +(1-a0)*norm.pdf(x, loc=x1,scale=s1) )"
   ]
  },
  {
   "cell_type": "code",
   "execution_count": 8,
   "metadata": {},
   "outputs": [],
   "source": [
    "def trimodal_model(x,x0,s0,a0,x1,s1,a1,x2,s2):\n",
    "    return ( a0*norm.pdf(x, loc=x0,scale=s0)\n",
    "            +a1*norm.pdf(x, loc=x1,scale=s1)\n",
    "            +(1-a0-a1)*norm.pdf(x, loc=x2,scale=s2) )"
   ]
  },
  {
   "cell_type": "code",
   "execution_count": 9,
   "metadata": {},
   "outputs": [],
   "source": [
    "def compute_kde_pdf(phbs_dict, phb):\n",
    "    raw_df = phbs_dict[phb]['raw_df']\n",
    "    data = np.array(raw_df['Delta_h']).reshape(-1,1)\n",
    "    Delta_h_array = np.linspace(0,1.2*np.max(data),200)\n",
    "    bw = data.std()*(4/3/data.size)**(1/5)*bandwidth_adjustment_factor\n",
    "    print('{}:  bandwidth = {:.0f}'.format(phb,bw))\n",
    "    kde = KernelDensity(kernel='gaussian', bandwidth=bw)\n",
    "    kde.fit(data)\n",
    "    kde_array = np.exp(kde.score_samples(Delta_h_array.reshape(-1,1)))\n",
    "    kde_df = pd.DataFrame(index=None,\n",
    "                          data={'Delta_h': Delta_h_array,\n",
    "                                'p_Delta_h': kde_array})\n",
    "    phbs_dict[phb].update({'kde_df':kde_df})"
   ]
  },
  {
   "cell_type": "code",
   "execution_count": 10,
   "metadata": {},
   "outputs": [],
   "source": [
    "def find_modes(phbs_dict, phb):\n",
    "    kde_df = phbs_dict[phb]['kde_df']\n",
    "    Delta_h_array = kde_df['Delta_h']\n",
    "    p_Delta_h_array = kde_df['p_Delta_h']\n",
    "    peaks_array = find_peaks(p_Delta_h_array)[0]\n",
    "    peaks_array = np.vstack((peaks_array,\n",
    "                             Delta_h_array[peaks_array],\n",
    "                             p_Delta_h_array[peaks_array])).T\n",
    "    # Sort by magnitude (largest p(∆h) first)\n",
    "    peaks_array = np.flipud(peaks_array[peaks_array[:,2].argsort()])\n",
    "    principal_modes_array = peaks_array[:,1:3]\n",
    "    phbs_dict[phb].update({'modes':principal_modes_array})\n",
    "\n",
    "    print(phb)\n",
    "    print('Principal mode#1: ∆h={:.0f}m  p(∆h)={:.5f}'\n",
    "          .format(principal_modes_array[0,0],principal_modes_array[0,1]))\n",
    "    print('Principal mode#2: ∆h={:.0f}m  p(∆h)={:.5f}'\n",
    "          .format(principal_modes_array[1,0],principal_modes_array[1,1]))\n",
    "    if principal_modes_array.shape[0]>2:\n",
    "        print('Principal mode#3: ∆h={:.0f}m  p(∆h)={:.5f}'\n",
    "          .format(principal_modes_array[2,0],principal_modes_array[2,1]))\n",
    "    print('')"
   ]
  },
  {
   "cell_type": "code",
   "execution_count": 11,
   "metadata": {},
   "outputs": [],
   "source": [
    "def fit_bimodal(phbs_dict, phb):\n",
    "    kde_df          = phbs_dict[phb]['kde_df']\n",
    "    modes_array     = phbs_dict[phb]['modes']\n",
    "    Delta_h_array   = kde_df['Delta_h']\n",
    "    p_Delta_h_array = kde_df['p_Delta_h']\n",
    "    initial_values  = [modes_array[0,0], default_gaussian_stdev, 0.5,\n",
    "                       modes_array[1,0], default_gaussian_stdev]\n",
    "    popt,pcov = curve_fit(bimodal_model, \n",
    "                          Delta_h_array, p_Delta_h_array, \n",
    "                          p0=initial_values)\n",
    "    scales_array = np.zeros((2,8))\n",
    "    scales_array[0,:] = [popt[0],popt[1],\n",
    "                         bimodal_model(popt[0],*popt),\n",
    "                         *popt]\n",
    "    scales_array[1,:] = [popt[3],popt[4],\n",
    "                         bimodal_model(popt[3],*popt),\n",
    "                         *popt]\n",
    "    scales_array = np.flipud(scales_array[scales_array[:,0].argsort()])\n",
    "    phbs_dict[phb].update({'bimodal_scales': scales_array})\n",
    "    \n",
    "    print(phb)\n",
    "#     print(modes_array)\n",
    "    print('Global vertical scale: H_G = {:.0f} ± {:.0f}m  p(∆h)={:0.5f}'\n",
    "          .format(*list(scales_array[0,:])))\n",
    "    print('Local vertical scale:  H_L = {:.0f} ± {:.0f}m  p(∆h)={:0.5f}'\n",
    "          .format(*list(scales_array[1,:])))\n",
    "    print()"
   ]
  },
  {
   "cell_type": "code",
   "execution_count": 12,
   "metadata": {},
   "outputs": [],
   "source": [
    "def fit_trimodal(phbs_dict, phb):\n",
    "    kde_df          = phbs_dict[phb]['kde_df']\n",
    "    modes_array     = phbs_dict[phb]['modes']\n",
    "    Delta_h_array   = kde_df['Delta_h']\n",
    "    p_Delta_h_array = kde_df['p_Delta_h']\n",
    "    if modes_array.shape[0]>2:\n",
    "        initial_values  = [modes_array[0,0], default_gaussian_stdev, 0.5,\n",
    "                           modes_array[1,0], default_gaussian_stdev, 0.4,\n",
    "                           modes_array[2,0], default_gaussian_stdev]\n",
    "        popt,pcov = curve_fit(trimodal_model, \n",
    "                              Delta_h_array, p_Delta_h_array, \n",
    "                              p0=initial_values)\n",
    "\n",
    "        scales_array = np.zeros((3,3))\n",
    "        scales_array[0,:] = [popt[0],popt[1],popt[2]]\n",
    "        scales_array[1,:] = [popt[3],popt[4],popt[5]]\n",
    "        scales_array[2,:] = [popt[6],popt[7],1.0-popt[2]-popt[5]]\n",
    "        scales_array=np.flipud(scales_array[scales_array[:,0].argsort()])\n",
    "        phbs_dict[phb].update({'trimodal_scales': scales_array})\n",
    "        \n",
    "        print(phb)\n",
    "#         print(modes_array)\n",
    "        print('Global vertical scale: H_G = {:.0f} ± {:.0f}m'\n",
    "              .format(scales_array[0,0],scales_array[0,1]))\n",
    "        print('Local vertical scale:  H_L = {:.0f} ± {:.0f}m'\n",
    "              .format(scales_array[1,0],scales_array[1,1]))\n",
    "        print('Extra vertical scale:  H_X = {:.0f} ± {:.0f}m'\n",
    "              .format(scales_array[2,0],scales_array[2,1]))\n",
    "        print()\n",
    "    else:\n",
    "        print(phb)\n",
    "        print('Two modes only resolved')\n",
    "        print()\n",
    "        phbs_dict[phb].update({'trimodal':(None,None)})"
   ]
  },
  {
   "cell_type": "markdown",
   "metadata": {},
   "source": [
    "## Graphics"
   ]
  },
  {
   "cell_type": "code",
   "execution_count": 13,
   "metadata": {},
   "outputs": [],
   "source": [
    "def plot_pdf(phbs_dict, phb):\n",
    "    kde_df          = phbs_dict[phb]['kde_df']\n",
    "    modes_array     = phbs_dict[phb]['modes']\n",
    "    Delta_h_array   = kde_df['Delta_h']\n",
    "    p_Delta_h_array = kde_df['p_Delta_h']\n",
    "    bimodal_scales_array  = phbs_dict[phb]['bimodal_scales']\n",
    "    print(bimodal_scales_array)\n",
    "#     trimodal_scales_array = phbs_dict[phb]['trimodal_scales']\n",
    "\n",
    "    figure = plt.figure(figsize=figsize)\n",
    "    plt.plot(Delta_h_array,p_Delta_h_array, \n",
    "             c='DarkGreen', lw=1,\n",
    "             label='kde pdf')\n",
    "    plt.plot(bimodal_scales_array[0,0],bimodal_scales_array[0,2],\n",
    "             'o',ms=8,c='DarkGreen',fillstyle='none')\n",
    "    plt.plot(bimodal_scales_array[1,0],bimodal_scales_array[1,2],\n",
    "             's',ms=8,c='DarkGreen',fillstyle='none')\n",
    "#     plt.plot(principal_modes_array[1,0],principal_modes_array[1,1],\n",
    "#              's',ms=8,c='DarkGreen',fillstyle='none')\n",
    "#     plt.plot(Delta_h_array, bimodal_model(Delta_h_array, *popt),\n",
    "#              c='DarkBlue',lw=2,\n",
    "#              label='dual Gaussian fit')\n",
    "#     plt.plot(popt[0],bimodal_model(popt[0], *popt),\n",
    "#              'o',ms=6,c='DarkBlue',\n",
    "#              label=r'global scale  $H_G \\approx ${}$\\pm${}m'\\\n",
    "#                  .format(int(np.round(popt[0])),int(np.round(popt[1])) ))\n",
    "#     plt.plot(popt[3],bimodal_model(popt[3], *popt),\n",
    "#              's',ms=6,c='DarkBlue',\n",
    "#              label=r' local scale   $H_L \\approx ${}$\\pm${}m'\\\n",
    "#                  .format(int(np.round(popt[3])),int(np.round(popt[4])) ))\n",
    "    axes = plt.gca()\n",
    "    axes.set_ylim(0,)\n",
    "#     axes.set_xlim(0,1.2*np.max(ph_df['Delta_h']));\n",
    "#     if popt[0]>np.max(ph_df['Delta_h'])/2:\n",
    "#         loc='upper left'\n",
    "#     else:\n",
    "#         loc='upper right'\n",
    "#     plt.legend(fontsize=12,loc=loc)\n",
    "#     plt.title(data_set_name);"
   ]
  },
  {
   "cell_type": "markdown",
   "metadata": {
    "heading_collapsed": true
   },
   "source": [
    "## Data"
   ]
  },
  {
   "cell_type": "code",
   "execution_count": 14,
   "metadata": {
    "hidden": true
   },
   "outputs": [
    {
     "data": {
      "text/plain": [
       "{'CostaRica': '/Users/colinstark/Science/ProgHypso/PHscales/CostaRica',\n",
       " 'Finisterres': '/Users/colinstark/Science/ProgHypso/PHscales/Finisterres',\n",
       " 'GabilanMesa': '/Users/colinstark/Science/ProgHypso/PHscales/GabilanMesa',\n",
       " 'SanGabriel': '/Users/colinstark/Science/ProgHypso/PHscales/SanGabriel',\n",
       " 'SantaMarta': '/Users/colinstark/Science/ProgHypso/PHscales/SantaMarta'}"
      ]
     },
     "execution_count": 14,
     "metadata": {},
     "output_type": "execute_result"
    }
   ],
   "source": [
    "region_dict = {}\n",
    "for dir in os.listdir(ph_scales_path):\n",
    "    path = os.path.realpath(os.path.join(ph_scales_path,dir))\n",
    "    if dir[0]!='.' and dir!='Analysis' and os.path.isdir(path):\n",
    "        region_dict.update({dir : path})\n",
    "region_dict "
   ]
  },
  {
   "cell_type": "code",
   "execution_count": 15,
   "metadata": {
    "hidden": true
   },
   "outputs": [
    {
     "data": {
      "text/plain": [
       "{'SanGabriel': [('/Users/colinstark/Science/ProgHypso/PHscales/SanGabriel/Ac0p1km2/PHBs/Cusum02_BenchLength3Steps/Tables',\n",
       "   'Supercatchment132_allOutletModePairs.txt')],\n",
       " 'CostaRica': [('/Users/colinstark/Science/ProgHypso/PHscales/CostaRica/Ac0p5km2/PHBs/Cusum02_BenchLength3Steps/Tables',\n",
       "   'Supercatchment11_allOutletModePairs.txt'),\n",
       "  ('/Users/colinstark/Science/ProgHypso/PHscales/CostaRica/Ac0p5km2/PHBs/Cusum02_BenchLength3Steps/Tables',\n",
       "   'Supercatchment16_allOutletModePairs.txt'),\n",
       "  ('/Users/colinstark/Science/ProgHypso/PHscales/CostaRica/Ac0p5km2/PHBs/Cusum02_BenchLength3Steps/Tables',\n",
       "   'Supercatchment19_allOutletModePairs.txt'),\n",
       "  ('/Users/colinstark/Science/ProgHypso/PHscales/CostaRica/Ac0p5km2/PHBs/Cusum02_BenchLength3Steps/Tables',\n",
       "   'Supercatchment1_allOutletModePairs.txt'),\n",
       "  ('/Users/colinstark/Science/ProgHypso/PHscales/CostaRica/Ac0p5km2/PHBs/Cusum02_BenchLength3Steps/Tables',\n",
       "   'Supercatchment24_allOutletModePairs.txt'),\n",
       "  ('/Users/colinstark/Science/ProgHypso/PHscales/CostaRica/Ac0p5km2/PHBs/Cusum02_BenchLength3Steps/Tables',\n",
       "   'Supercatchment30_allOutletModePairs.txt'),\n",
       "  ('/Users/colinstark/Science/ProgHypso/PHscales/CostaRica/Ac0p5km2/PHBs/Cusum02_BenchLength3Steps/Tables',\n",
       "   'Supercatchment9_allOutletModePairs.txt')],\n",
       " 'Finisterres': [('/Users/colinstark/Science/ProgHypso/PHscales/Finisterres/Ac0p5km2/PHBs/Cusum02_BenchLength3Steps/Tables',\n",
       "   'Supercatchment12_allOutletModePairs.txt'),\n",
       "  ('/Users/colinstark/Science/ProgHypso/PHscales/Finisterres/Ac0p5km2/PHBs/Cusum02_BenchLength3Steps/Tables',\n",
       "   'Supercatchment18_allOutletModePairs.txt'),\n",
       "  ('/Users/colinstark/Science/ProgHypso/PHscales/Finisterres/Ac0p5km2/PHBs/Cusum02_BenchLength3Steps/Tables',\n",
       "   'Supercatchment33_allOutletModePairs.txt'),\n",
       "  ('/Users/colinstark/Science/ProgHypso/PHscales/Finisterres/Ac0p5km2/PHBs/Cusum02_BenchLength3Steps/Tables',\n",
       "   'Supercatchment37_allOutletModePairs.txt')],\n",
       " 'GabilanMesa': [('/Users/colinstark/Science/ProgHypso/PHscales/GabilanMesa/Ac0p5km2/PHBs/Cusum02_BenchLength3Steps/Tables',\n",
       "   'Supercatchment1_allOutletModePairs.txt'),\n",
       "  ('/Users/colinstark/Science/ProgHypso/PHscales/GabilanMesa/Ac0p5km2/PHBs/Cusum02_BenchLength3Steps/Tables',\n",
       "   'Supercatchment2_allOutletModePairs.txt')],\n",
       " 'SantaMarta': [('/Users/colinstark/Science/ProgHypso/PHscales/SantaMarta/Ac0p5km2/PHBs/Cusum02_BenchLength3Steps/Tables',\n",
       "   'Supercatchment19_allOutletModePairs.txt')]}"
      ]
     },
     "execution_count": 15,
     "metadata": {},
     "output_type": "execute_result"
    }
   ],
   "source": [
    "supercatchment_dict = {}\n",
    "for phbs_group in phbs_groups:\n",
    "    for region in region_dict:\n",
    "        path = os.path.join(region_dict[region],*phbs_group)\n",
    "        if os.path.isdir(path):\n",
    "            supercatchment_list = [\n",
    "                (path,supercatchment)\n",
    "                for supercatchment in os.listdir(path) \n",
    "                if supercatchment[0]!='.']\n",
    "            supercatchment_dict.update({region : supercatchment_list})\n",
    "supercatchment_dict"
   ]
  },
  {
   "cell_type": "code",
   "execution_count": 16,
   "metadata": {
    "hidden": true
   },
   "outputs": [],
   "source": [
    "phbs_dict = {}"
   ]
  },
  {
   "cell_type": "code",
   "execution_count": 17,
   "metadata": {
    "hidden": true,
    "scrolled": false
   },
   "outputs": [
    {
     "data": {
      "text/plain": [
       "['SanGabriel_Supercatchment132_allOutletModePairs',\n",
       " 'CostaRica_Supercatchment11_allOutletModePairs',\n",
       " 'CostaRica_Supercatchment16_allOutletModePairs',\n",
       " 'CostaRica_Supercatchment19_allOutletModePairs',\n",
       " 'CostaRica_Supercatchment1_allOutletModePairs',\n",
       " 'CostaRica_Supercatchment24_allOutletModePairs',\n",
       " 'CostaRica_Supercatchment30_allOutletModePairs',\n",
       " 'CostaRica_Supercatchment9_allOutletModePairs',\n",
       " 'Finisterres_Supercatchment12_allOutletModePairs',\n",
       " 'Finisterres_Supercatchment18_allOutletModePairs',\n",
       " 'Finisterres_Supercatchment33_allOutletModePairs',\n",
       " 'Finisterres_Supercatchment37_allOutletModePairs',\n",
       " 'GabilanMesa_Supercatchment1_allOutletModePairs',\n",
       " 'GabilanMesa_Supercatchment2_allOutletModePairs',\n",
       " 'SantaMarta_Supercatchment19_allOutletModePairs']"
      ]
     },
     "execution_count": 17,
     "metadata": {},
     "output_type": "execute_result"
    }
   ],
   "source": [
    "for supercatchment in supercatchment_dict.keys():\n",
    "    for phbs in supercatchment_dict[supercatchment]:\n",
    "        name = supercatchment+'_'+phbs[1].replace('.txt','')\n",
    "        path = (phbs[0],phbs[1])\n",
    "        df = read_data(dir_name=[phbs[0]], \n",
    "                          file_name=phbs[1], index_col=None)\n",
    "        phbs_dict.update({name : {'path':phbs[0],\n",
    "                                  'file':phbs[1],\n",
    "                                  'raw_df':  df} })\n",
    "\n",
    "list(phbs_dict.keys())"
   ]
  },
  {
   "cell_type": "code",
   "execution_count": 18,
   "metadata": {
    "hidden": true
   },
   "outputs": [
    {
     "data": {
      "image/png": "[encoded data removed]",
      "text/plain": [
       "<Figure size 600x400 with 1 Axes>"
      ]
     },
     "metadata": {
      "needs_background": "light"
     },
     "output_type": "display_data"
    }
   ],
   "source": [
    "example_phb = list(phbs_dict.keys())[example_phb_index]\n",
    "df = phbs_dict[example_phb]['raw_df']\n",
    "axes = df.plot.scatter(x='Outlets',y='Modes',title=example_phb)\n",
    "axes.set_xlim(0,);\n",
    "axes.set_ylim(0,);"
   ]
  },
  {
   "cell_type": "markdown",
   "metadata": {},
   "source": [
    "## Analysis"
   ]
  },
  {
   "cell_type": "markdown",
   "metadata": {},
   "source": [
    "For every supercatchment result table (now in a `pandas` dataframe), compute $\\Delta{h} = h_\\mathrm{mode}-h_\\mathrm{outlet}$ and put into a new column in that dataframe."
   ]
  },
  {
   "cell_type": "code",
   "execution_count": 19,
   "metadata": {},
   "outputs": [],
   "source": [
    "for phb in phbs_dict:\n",
    "    df = phbs_dict[phb]['raw_df']\n",
    "    df['Delta_h'] = df['Modes']-df['Outlets']"
   ]
  },
  {
   "cell_type": "markdown",
   "metadata": {},
   "source": [
    "Check the pdf $p(\\Delta{h})$ for an example super."
   ]
  },
  {
   "cell_type": "code",
   "execution_count": 20,
   "metadata": {},
   "outputs": [
    {
     "data": {
      "image/png": "[encoded data removed]",
      "text/plain": [
       "<Figure size 600x400 with 1 Axes>"
      ]
     },
     "metadata": {
      "needs_background": "light"
     },
     "output_type": "display_data"
    }
   ],
   "source": [
    "example_phb = list(phbs_dict.keys())[example_phb_index]\n",
    "\n",
    "df = phbs_dict[example_phb]['raw_df']\n",
    "axes = df.plot.density(x='Outlets',y='Delta_h',bw_method='silverman',\n",
    "                          title=example_phb)\n",
    "axes.set_xlim(0,1.1*np.max(df['Delta_h']));\n",
    "axes.set_ylim(0,);"
   ]
  },
  {
   "cell_type": "markdown",
   "metadata": {},
   "source": [
    "Compute a kernel-density estimated pdf for each super, and place in another dataframe for each."
   ]
  },
  {
   "cell_type": "code",
   "execution_count": 21,
   "metadata": {},
   "outputs": [
    {
     "name": "stdout",
     "output_type": "stream",
     "text": [
      "SanGabriel_Supercatchment132_allOutletModePairs:  bandwidth = 125\n",
      "CostaRica_Supercatchment11_allOutletModePairs:  bandwidth = 88\n",
      "CostaRica_Supercatchment16_allOutletModePairs:  bandwidth = 166\n",
      "CostaRica_Supercatchment19_allOutletModePairs:  bandwidth = 135\n",
      "CostaRica_Supercatchment1_allOutletModePairs:  bandwidth = 110\n",
      "CostaRica_Supercatchment24_allOutletModePairs:  bandwidth = 89\n",
      "CostaRica_Supercatchment30_allOutletModePairs:  bandwidth = 123\n",
      "CostaRica_Supercatchment9_allOutletModePairs:  bandwidth = 127\n",
      "Finisterres_Supercatchment12_allOutletModePairs:  bandwidth = 103\n",
      "Finisterres_Supercatchment18_allOutletModePairs:  bandwidth = 138\n",
      "Finisterres_Supercatchment33_allOutletModePairs:  bandwidth = 159\n",
      "Finisterres_Supercatchment37_allOutletModePairs:  bandwidth = 135\n",
      "GabilanMesa_Supercatchment1_allOutletModePairs:  bandwidth = 22\n",
      "GabilanMesa_Supercatchment2_allOutletModePairs:  bandwidth = 25\n",
      "SantaMarta_Supercatchment19_allOutletModePairs:  bandwidth = 95\n"
     ]
    }
   ],
   "source": [
    "for phb in phbs_dict:\n",
    "    compute_kde_pdf(phbs_dict, phb)"
   ]
  },
  {
   "cell_type": "markdown",
   "metadata": {},
   "source": [
    "For the example super, compare this kde pdf with the one generated and plotted above by `pandas`."
   ]
  },
  {
   "cell_type": "code",
   "execution_count": 22,
   "metadata": {},
   "outputs": [
    {
     "data": {
      "image/png": "[encoded data removed]",
      "text/plain": [
       "<Figure size 600x400 with 1 Axes>"
      ]
     },
     "metadata": {
      "needs_background": "light"
     },
     "output_type": "display_data"
    }
   ],
   "source": [
    "example_phb = list(phbs_dict.keys())[example_phb_index]\n",
    "df = phbs_dict[example_phb]['kde_df']\n",
    "axes = df.plot.line(x='Delta_h',y='p_Delta_h',\n",
    "                          title=example_phb)\n",
    "axes.set_xlim(0,np.max(df['Delta_h']));\n",
    "axes.set_ylim(0,);"
   ]
  },
  {
   "cell_type": "code",
   "execution_count": 23,
   "metadata": {
    "scrolled": false
   },
   "outputs": [
    {
     "name": "stdout",
     "output_type": "stream",
     "text": [
      "SanGabriel_Supercatchment132_allOutletModePairs\n",
      "Principal mode#1: ∆h=496m  p(∆h)=0.00121\n",
      "Principal mode#2: ∆h=1661m  p(∆h)=0.00027\n",
      "\n",
      "CostaRica_Supercatchment11_allOutletModePairs\n",
      "Principal mode#1: ∆h=652m  p(∆h)=0.00147\n",
      "Principal mode#2: ∆h=248m  p(∆h)=0.00109\n",
      "Principal mode#3: ∆h=1205m  p(∆h)=0.00071\n",
      "\n",
      "CostaRica_Supercatchment16_allOutletModePairs\n",
      "Principal mode#1: ∆h=292m  p(∆h)=0.00086\n",
      "Principal mode#2: ∆h=2091m  p(∆h)=0.00045\n",
      "Principal mode#3: ∆h=1458m  p(∆h)=0.00038\n",
      "\n",
      "CostaRica_Supercatchment19_allOutletModePairs\n",
      "Principal mode#1: ∆h=358m  p(∆h)=0.00132\n",
      "Principal mode#2: ∆h=1652m  p(∆h)=0.00038\n",
      "Principal mode#3: ∆h=1035m  p(∆h)=0.00020\n",
      "\n",
      "CostaRica_Supercatchment1_allOutletModePairs\n",
      "Principal mode#1: ∆h=992m  p(∆h)=0.00113\n",
      "Principal mode#2: ∆h=270m  p(∆h)=0.00093\n",
      "\n",
      "CostaRica_Supercatchment24_allOutletModePairs\n",
      "Principal mode#1: ∆h=358m  p(∆h)=0.00173\n",
      "Principal mode#2: ∆h=1120m  p(∆h)=0.00050\n",
      "Principal mode#3: ∆h=889m  p(∆h)=0.00039\n",
      "\n",
      "CostaRica_Supercatchment30_allOutletModePairs\n",
      "Principal mode#1: ∆h=310m  p(∆h)=0.00134\n",
      "Principal mode#2: ∆h=1433m  p(∆h)=0.00021\n",
      "\n",
      "CostaRica_Supercatchment9_allOutletModePairs\n",
      "Principal mode#1: ∆h=1113m  p(∆h)=0.00102\n",
      "Principal mode#2: ∆h=278m  p(∆h)=0.00085\n",
      "Principal mode#3: ∆h=1988m  p(∆h)=0.00026\n",
      "\n",
      "Finisterres_Supercatchment12_allOutletModePairs\n",
      "Principal mode#1: ∆h=1339m  p(∆h)=0.00137\n",
      "Principal mode#2: ∆h=320m  p(∆h)=0.00080\n",
      "\n",
      "Finisterres_Supercatchment18_allOutletModePairs\n",
      "Principal mode#1: ∆h=1392m  p(∆h)=0.00120\n",
      "Principal mode#2: ∆h=341m  p(∆h)=0.00064\n",
      "Principal mode#3: ∆h=871m  p(∆h)=0.00046\n",
      "\n",
      "Finisterres_Supercatchment33_allOutletModePairs\n",
      "Principal mode#1: ∆h=357m  p(∆h)=0.00066\n",
      "Principal mode#2: ∆h=1056m  p(∆h)=0.00045\n",
      "Principal mode#3: ∆h=2070m  p(∆h)=0.00033\n",
      "\n",
      "Finisterres_Supercatchment37_allOutletModePairs\n",
      "Principal mode#1: ∆h=1489m  p(∆h)=0.00075\n",
      "Principal mode#2: ∆h=354m  p(∆h)=0.00070\n",
      "Principal mode#3: ∆h=2019m  p(∆h)=0.00023\n",
      "\n",
      "GabilanMesa_Supercatchment1_allOutletModePairs\n",
      "Principal mode#1: ∆h=209m  p(∆h)=0.00659\n",
      "Principal mode#2: ∆h=102m  p(∆h)=0.00533\n",
      "\n",
      "GabilanMesa_Supercatchment2_allOutletModePairs\n",
      "Principal mode#1: ∆h=81m  p(∆h)=0.00480\n",
      "Principal mode#2: ∆h=236m  p(∆h)=0.00430\n",
      "\n",
      "SantaMarta_Supercatchment19_allOutletModePairs\n",
      "Principal mode#1: ∆h=891m  p(∆h)=0.00161\n",
      "Principal mode#2: ∆h=331m  p(∆h)=0.00073\n",
      "\n"
     ]
    }
   ],
   "source": [
    "for phb in phbs_dict:\n",
    "    modes = find_modes(phbs_dict, phb)"
   ]
  },
  {
   "cell_type": "code",
   "execution_count": 24,
   "metadata": {},
   "outputs": [
    {
     "name": "stdout",
     "output_type": "stream",
     "text": [
      "SanGabriel_Supercatchment132_allOutletModePairs\n",
      "Global vertical scale: H_G = 1665 ± 111m  p(∆h)=0.00026\n",
      "Local vertical scale:  H_L = 497 ± 318m  p(∆h)=0.00117\n",
      "\n",
      "CostaRica_Supercatchment11_allOutletModePairs\n",
      "Global vertical scale: H_G = 661 ± 60m  p(∆h)=0.00146\n",
      "Local vertical scale:  H_L = 423 ± 392m  p(∆h)=0.00091\n",
      "\n",
      "CostaRica_Supercatchment16_allOutletModePairs\n",
      "Global vertical scale: H_G = 1656 ± 608m  p(∆h)=0.00030\n",
      "Local vertical scale:  H_L = 332 ± 269m  p(∆h)=0.00082\n",
      "\n",
      "CostaRica_Supercatchment19_allOutletModePairs\n",
      "Global vertical scale: H_G = 1637 ± 160m  p(∆h)=0.00035\n",
      "Local vertical scale:  H_L = 372 ± 260m  p(∆h)=0.00132\n",
      "\n",
      "CostaRica_Supercatchment1_allOutletModePairs\n",
      "Global vertical scale: H_G = 1011 ± 153m  p(∆h)=0.00107\n",
      "Local vertical scale:  H_L = 366 ± 262m  p(∆h)=0.00092\n",
      "\n",
      "CostaRica_Supercatchment24_allOutletModePairs\n",
      "Global vertical scale: H_G = 1052 ± 294m  p(∆h)=0.00043\n",
      "Local vertical scale:  H_L = 320 ± 165m  p(∆h)=0.00168\n",
      "\n",
      "CostaRica_Supercatchment30_allOutletModePairs\n",
      "Global vertical scale: H_G = 607 ± 442m  p(∆h)=0.00070\n",
      "Local vertical scale:  H_L = 289 ± 169m  p(∆h)=0.00135\n",
      "\n",
      "CostaRica_Supercatchment9_allOutletModePairs\n",
      "Global vertical scale: H_G = 1116 ± 150m  p(∆h)=0.00101\n",
      "Local vertical scale:  H_L = 344 ± 319m  p(∆h)=0.00079\n",
      "\n",
      "Finisterres_Supercatchment12_allOutletModePairs\n",
      "Global vertical scale: H_G = 1316 ± 137m  p(∆h)=0.00132\n",
      "Local vertical scale:  H_L = 409 ± 307m  p(∆h)=0.00072\n",
      "\n",
      "Finisterres_Supercatchment18_allOutletModePairs\n",
      "Global vertical scale: H_G = 1386 ± 158m  p(∆h)=0.00116\n",
      "Local vertical scale:  H_L = 511 ± 411m  p(∆h)=0.00055\n",
      "\n",
      "Finisterres_Supercatchment33_allOutletModePairs\n",
      "Global vertical scale: H_G = 2144 ± 259m  p(∆h)=0.00032\n",
      "Local vertical scale:  H_L = 611 ± 550m  p(∆h)=0.00058\n",
      "\n",
      "Finisterres_Supercatchment37_allOutletModePairs\n",
      "Global vertical scale: H_G = 1413 ± 372m  p(∆h)=0.00056\n",
      "Local vertical scale:  H_L = 404 ± 289m  p(∆h)=0.00067\n",
      "\n",
      "GabilanMesa_Supercatchment1_allOutletModePairs\n",
      "Global vertical scale: H_G = 208 ± 27m  p(∆h)=0.00665\n",
      "Local vertical scale:  H_L = 99 ± 44m  p(∆h)=0.00514\n",
      "\n",
      "GabilanMesa_Supercatchment2_allOutletModePairs\n",
      "Global vertical scale: H_G = 237 ± 24m  p(∆h)=0.00415\n",
      "Local vertical scale:  H_L = 101 ± 64m  p(∆h)=0.00486\n",
      "\n",
      "SantaMarta_Supercatchment19_allOutletModePairs\n",
      "Global vertical scale: H_G = 890 ± 169m  p(∆h)=0.00153\n",
      "Local vertical scale:  H_L = 327 ± 190m  p(∆h)=0.00075\n",
      "\n"
     ]
    }
   ],
   "source": [
    "for phb in phbs_dict:\n",
    "    fit_bimodal(phbs_dict, phb)"
   ]
  },
  {
   "cell_type": "code",
   "execution_count": 25,
   "metadata": {},
   "outputs": [
    {
     "name": "stdout",
     "output_type": "stream",
     "text": [
      "SanGabriel_Supercatchment132_allOutletModePairs\n",
      "Two modes only resolved\n",
      "\n",
      "CostaRica_Supercatchment11_allOutletModePairs\n",
      "Global vertical scale: H_G = 1205 ± 101m\n",
      "Local vertical scale:  H_L = 657 ± 115m\n",
      "Extra vertical scale:  H_X = 261 ± 155m\n",
      "\n",
      "CostaRica_Supercatchment16_allOutletModePairs\n",
      "Global vertical scale: H_G = 2105 ± 145m\n",
      "Local vertical scale:  H_L = 1410 ± 291m\n",
      "Extra vertical scale:  H_X = 349 ± 298m\n",
      "\n",
      "CostaRica_Supercatchment19_allOutletModePairs\n",
      "Global vertical scale: H_G = 1648 ± 132m\n",
      "Local vertical scale:  H_L = 1094 ± 154m\n",
      "Extra vertical scale:  H_X = 369 ± 242m\n",
      "\n",
      "CostaRica_Supercatchment1_allOutletModePairs\n",
      "Two modes only resolved\n",
      "\n",
      "CostaRica_Supercatchment24_allOutletModePairs\n",
      "Global vertical scale: H_G = 1121 ± 56m\n",
      "Local vertical scale:  H_L = 1021 ± 348m\n",
      "Extra vertical scale:  H_X = 317 ± 162m\n",
      "\n",
      "CostaRica_Supercatchment30_allOutletModePairs\n",
      "Two modes only resolved\n",
      "\n",
      "CostaRica_Supercatchment9_allOutletModePairs\n",
      "Global vertical scale: H_G = 2000 ± 133m\n",
      "Local vertical scale:  H_L = 1108 ± 152m\n",
      "Extra vertical scale:  H_X = 354 ± 278m\n",
      "\n",
      "Finisterres_Supercatchment12_allOutletModePairs\n",
      "Two modes only resolved\n",
      "\n",
      "Finisterres_Supercatchment18_allOutletModePairs\n",
      "Global vertical scale: H_G = 1400 ± 148m\n",
      "Local vertical scale:  H_L = 896 ± 259m\n",
      "Extra vertical scale:  H_X = 316 ± 195m\n",
      "\n",
      "Finisterres_Supercatchment33_allOutletModePairs\n",
      "Global vertical scale: H_G = 2147 ± 269m\n",
      "Local vertical scale:  H_L = 1029 ± 372m\n",
      "Extra vertical scale:  H_X = 339 ± 245m\n",
      "\n",
      "Finisterres_Supercatchment37_allOutletModePairs\n",
      "Global vertical scale: H_G = 2070 ± 151m\n",
      "Local vertical scale:  H_L = 1481 ± 172m\n",
      "Extra vertical scale:  H_X = 511 ± 420m\n",
      "\n",
      "GabilanMesa_Supercatchment1_allOutletModePairs\n",
      "Two modes only resolved\n",
      "\n",
      "GabilanMesa_Supercatchment2_allOutletModePairs\n",
      "Two modes only resolved\n",
      "\n",
      "SantaMarta_Supercatchment19_allOutletModePairs\n",
      "Two modes only resolved\n",
      "\n"
     ]
    }
   ],
   "source": [
    "for phb in phbs_dict:\n",
    "    fit_trimodal(phbs_dict, phb)"
   ]
  },
  {
   "cell_type": "markdown",
   "metadata": {},
   "source": [
    "## Plotting"
   ]
  },
  {
   "cell_type": "code",
   "execution_count": 26,
   "metadata": {},
   "outputs": [
    {
     "name": "stdout",
     "output_type": "stream",
     "text": [
      "[[1.66543909e+03 1.10849134e+02 2.61144362e-04 4.97135155e+02\n",
      "  3.17613053e+02 9.27812462e-01 1.66543909e+03 1.10849134e+02]\n",
      " [4.97135155e+02 3.17613053e+02 1.16539171e-03 4.97135155e+02\n",
      "  3.17613053e+02 9.27812462e-01 1.66543909e+03 1.10849134e+02]]\n"
     ]
    },
    {
     "data": {
      "image/png": "[encoded data removed]",
      "text/plain": [
       "<Figure size 800x600 with 1 Axes>"
      ]
     },
     "metadata": {
      "needs_background": "light"
     },
     "output_type": "display_data"
    }
   ],
   "source": [
    "example_phb = list(phbs_dict.keys())[example_phb_index]\n",
    "plot_pdf(phbs_dict,example_phb)"
   ]
  },
  {
   "cell_type": "markdown",
   "metadata": {},
   "source": [
    "## Export"
   ]
  },
  {
   "cell_type": "code",
   "execution_count": null,
   "metadata": {},
   "outputs": [],
   "source": []
  }
 ],
 "metadata": {
  "hide_input": false,
  "kernelspec": {
   "display_name": "Python 3",
   "language": "python",
   "name": "python3"
  },
  "language_info": {
   "codemirror_mode": {
    "name": "ipython",
    "version": 3
   },
   "file_extension": ".py",
   "mimetype": "text/x-python",
   "name": "python",
   "nbconvert_exporter": "python",
   "pygments_lexer": "ipython3",
   "version": "3.7.2"
  }
 },
 "nbformat": 4,
 "nbformat_minor": 2
}
